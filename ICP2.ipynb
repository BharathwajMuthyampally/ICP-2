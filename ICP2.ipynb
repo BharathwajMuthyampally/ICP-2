{
  "nbformat": 4,
  "nbformat_minor": 0,
  "metadata": {
    "colab": {
      "provenance": [],
      "toc_visible": true
    },
    "kernelspec": {
      "name": "python3",
      "display_name": "Python 3"
    },
    "language_info": {
      "name": "python"
    }
  },
  "cells": [
    {
      "cell_type": "markdown",
      "source": [
        "# Employee and FulltimeEmployee Classes\n"
      ],
      "metadata": {
        "id": "YBU1kDILHrNO"
      }
    },
    {
      "cell_type": "code",
      "source": [
        "class Employee:\n",
        "    employee_count = 0  # Class variable to count the number of Employees\n",
        "\n",
        "    def __init__(self, name, family, salary, department):\n",
        "        self.name = name\n",
        "        self.family = family\n",
        "        self.salary = salary\n",
        "        self.department = department\n",
        "        Employee.employee_count += 1\n",
        "\n",
        "    @staticmethod\n",
        "    def average_salary(employees):\n",
        "        if not employees:\n",
        "            return 0\n",
        "        total_salary = sum(emp.salary for emp in employees)\n",
        "        return total_salary / len(employees)\n",
        "\n",
        "class FulltimeEmployee(Employee):\n",
        "    def __init__(self, name, family, salary, department):\n",
        "        super().__init__(name, family, salary, department)\n",
        "\n",
        "# Creating instances and calling member functions\n",
        "emp1 = Employee(\"Bharathwaj\", \"Manasa\", 50000, \"HR\")\n",
        "emp2 = Employee(\"Sudeep\", \"Riya\", 60000, \"IT\")\n",
        "ft_emp1 = FulltimeEmployee(\"Vineel\", \"Teju\", 70000, \"Finance\")\n",
        "\n",
        "print(f\"Total number of employees: {Employee.employee_count}\")\n",
        "print(f\"Average salary: ${Employee.average_salary([emp1, emp2, ft_emp1]):.2f}\")"
      ],
      "metadata": {
        "colab": {
          "base_uri": "https://localhost:8080/"
        },
        "id": "YiIJiZ4EI4lW",
        "outputId": "71b6adb5-7d94-4a35-8acb-823af0746e0f"
      },
      "execution_count": 6,
      "outputs": [
        {
          "output_type": "stream",
          "name": "stdout",
          "text": [
            "Total number of employees: 3\n",
            "Average salary: $60000.00\n"
          ]
        }
      ]
    },
    {
      "cell_type": "markdown",
      "source": [
        "# NumPy Vector Operations"
      ],
      "metadata": {
        "id": "kT9BZJNeJpTA"
      }
    },
    {
      "cell_type": "code",
      "source": [
        "import numpy as np\n",
        "\n",
        "# Create random vector of size 20 with floats in range 1-20\n",
        "vector = np.random.uniform(1, 20, 20)\n",
        "\n",
        "# Reshape the array to 4 by 5\n",
        "matrix = vector.reshape(4, 5)\n",
        "\n",
        "# Replace the max in each row by 0\n",
        "matrix[np.arange(4), np.argmax(matrix, axis=1)] = 0\n",
        "\n",
        "print(\"Resulting matrix:\")\n",
        "print(matrix)"
      ],
      "metadata": {
        "colab": {
          "base_uri": "https://localhost:8080/"
        },
        "id": "gHdvvb-AJLJ3",
        "outputId": "a0281029-092f-4933-f4ed-6ee750f08a80"
      },
      "execution_count": 7,
      "outputs": [
        {
          "output_type": "stream",
          "name": "stdout",
          "text": [
            "Resulting matrix:\n",
            "[[10.76710156  7.78471144  4.3893292   3.7760656   0.        ]\n",
            " [ 8.92599886  0.         11.36886406 15.64081667  4.22311967]\n",
            " [13.83433788  2.74183679 13.65486661  0.         10.94289771]\n",
            " [ 1.95896468  7.98727561 13.65531225 12.71932673  0.        ]]\n"
          ]
        }
      ]
    }
  ]
}