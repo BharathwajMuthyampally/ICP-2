{
  "nbformat": 4,
  "nbformat_minor": 0,
  "metadata": {
    "colab": {
      "provenance": [],
      "toc_visible": true
    },
    "kernelspec": {
      "name": "python3",
      "display_name": "Python 3"
    },
    "language_info": {
      "name": "python"
    }
  },
  "cells": [
    {
      "cell_type": "markdown",
      "source": [
        "# Employee and FulltimeEmployee Classes\n"
      ],
      "metadata": {
        "id": "YBU1kDILHrNO"
      }
    },
    {
      "cell_type": "code",
      "source": [
        "class Employee:\n",
        "    employee_count = 0  # Class variable to count the number of Employees\n",
        "\n",
        "    def __init__(self, name, family, salary, department):\n",
        "        self.name = name\n",
        "        self.family = family\n",
        "        self.salary = salary\n",
        "        self.department = department\n",
        "        Employee.employee_count += 1\n",
        "\n",
        "    @staticmethod\n",
        "    def average_salary(employees):\n",
        "        if not employees:\n",
        "            return 0\n",
        "        total_salary = sum(emp.salary for emp in employees)\n",
        "        return total_salary / len(employees)\n",
        "\n",
        "class FulltimeEmployee(Employee):\n",
        "    def __init__(self, name, family, salary, department):\n",
        "        super().__init__(name, family, salary, department)\n",
        "\n",
        "# Creating instances and calling member functions\n",
        "emp1 = Employee(\"Bharathwaj\", \"Manasa\", 50000, \"HR\")\n",
        "emp2 = Employee(\"Sudeep\", \"Riya\", 60000, \"IT\")\n",
        "ft_emp1 = FulltimeEmployee(\"Vineel\", \"Teju\", 70000, \"Finance\")\n",
        "\n",
        "print(f\"Total number of employees: {Employee.employee_count}\")\n",
        "print(f\"Average salary: ${Employee.average_salary([emp1, emp2, ft_emp1]):.2f}\")"
      ],
      "metadata": {
        "colab": {
          "base_uri": "https://localhost:8080/"
        },
        "id": "YiIJiZ4EI4lW",
        "outputId": "288bd86c-46c6-4573-89c2-8b7385dccee2"
      },
      "execution_count": 8,
      "outputs": [
        {
          "output_type": "stream",
          "name": "stdout",
          "text": [
            "Total number of employees: 3\n",
            "Average salary: $60000.00\n"
          ]
        }
      ]
    },
    {
      "cell_type": "markdown",
      "source": [
        "# NumPy Vector Operations"
      ],
      "metadata": {
        "id": "kT9BZJNeJpTA"
      }
    },
    {
      "cell_type": "code",
      "source": [
        "import numpy as np\n",
        "\n",
        "# Create random vector of size 20 with floats in range 1-20\n",
        "vector = np.random.uniform(1, 20, 20)\n",
        "\n",
        "print(\"Original vector:\")\n",
        "print(vector)\n",
        "\n",
        "# Reshape the array to 4 by 5\n",
        "matrix = vector.reshape(4, 5)\n",
        "\n",
        "print(\"\\nReshaped 4x5 matrix:\")\n",
        "print(matrix)\n",
        "\n",
        "# Replace the max in each row by 0\n",
        "matrix[np.arange(4), np.argmax(matrix, axis=1)] = 0\n",
        "\n",
        "print(\"\\nMatrix after replacing max in each row with 0:\")\n",
        "print(matrix)"
      ],
      "metadata": {
        "colab": {
          "base_uri": "https://localhost:8080/"
        },
        "id": "gHdvvb-AJLJ3",
        "outputId": "44a2b4bc-8af7-4158-bd83-40c7c7b6f048"
      },
      "execution_count": 9,
      "outputs": [
        {
          "output_type": "stream",
          "name": "stdout",
          "text": [
            "Original vector:\n",
            "[17.67237352  7.42665896  8.3375746   7.52809594  7.70231683  1.12851293\n",
            " 12.90837856 12.69242333 15.77947933 14.99937083  6.61148935 12.74996452\n",
            "  6.60409526 17.06573567 15.18076377  2.54217579 13.02427644 19.87313968\n",
            " 10.11508953 10.78694679]\n",
            "\n",
            "Reshaped 4x5 matrix:\n",
            "[[17.67237352  7.42665896  8.3375746   7.52809594  7.70231683]\n",
            " [ 1.12851293 12.90837856 12.69242333 15.77947933 14.99937083]\n",
            " [ 6.61148935 12.74996452  6.60409526 17.06573567 15.18076377]\n",
            " [ 2.54217579 13.02427644 19.87313968 10.11508953 10.78694679]]\n",
            "\n",
            "Matrix after replacing max in each row with 0:\n",
            "[[ 0.          7.42665896  8.3375746   7.52809594  7.70231683]\n",
            " [ 1.12851293 12.90837856 12.69242333  0.         14.99937083]\n",
            " [ 6.61148935 12.74996452  6.60409526  0.         15.18076377]\n",
            " [ 2.54217579 13.02427644  0.         10.11508953 10.78694679]]\n"
          ]
        }
      ]
    }
  ]
}